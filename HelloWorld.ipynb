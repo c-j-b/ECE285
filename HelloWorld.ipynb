{
 "cells": [
  {
   "cell_type": "markdown",
   "metadata": {},
   "source": [
    "# Assignment 1\n",
    "## 1 Getting started"
   ]
  },
  {
   "cell_type": "code",
   "execution_count": null,
   "metadata": {
    "scrolled": true
   },
   "outputs": [],
   "source": [
    "print 'HelloWorld!'"
   ]
  },
  {
   "cell_type": "markdown",
   "metadata": {},
   "source": [
    "## 2 Numpy\n",
    "### 2.1 Arrays\n",
    "#### 1"
   ]
  },
  {
   "cell_type": "code",
   "execution_count": null,
   "metadata": {},
   "outputs": [],
   "source": [
    "import numpy as np\n",
    "\n",
    "a = np.array([1,2,3])\n",
    "print(type(a)) #type is numpy.ndarray\n",
    "print(a.shape) # shape (3,)\n",
    "print(a[0], a[1], a[2]) # (1,2,3)\n",
    "a[0] = 5"
   ]
  },
  {
   "cell_type": "markdown",
   "metadata": {},
   "source": [
    "##### Questions\n",
    "Type is numpy.ndarray <br>\n",
    "Shape is 3x1 (3,) <br>\n",
    "Vales are: (1,2,3) <br>"
   ]
  },
  {
   "cell_type": "markdown",
   "metadata": {},
   "source": [
    "#### 2"
   ]
  },
  {
   "cell_type": "code",
   "execution_count": null,
   "metadata": {},
   "outputs": [],
   "source": [
    "b = np.array([[1, 2, 3],[4, 5, 6]])"
   ]
  },
  {
   "cell_type": "markdown",
   "metadata": {},
   "source": [
    "#### Questions <br>\n",
    "Rank: 2 <br>\n",
    "Shape: 2x3 <br>\n",
    "Values:\n",
    "> b[0,0] = 1 <br>\n",
    "> b[0,1] = 2 <br>\n",
    "> b[1,0] = 4 <br>"
   ]
  },
  {
   "cell_type": "markdown",
   "metadata": {},
   "source": [
    "#### 3"
   ]
  },
  {
   "cell_type": "code",
   "execution_count": null,
   "metadata": {},
   "outputs": [],
   "source": [
    "a = np.zeros((2,2))  # an array of all zeros\n",
    "b = np.ones((1,2))  # an array of all ones\n",
    "c = np.full((2,2), 7)  # a constant array\n",
    "d = np.eye(2)  # a 2x2 identity matrix\n",
    "e = np.random.random((2,2))  # an array filled with random values"
   ]
  },
  {
   "cell_type": "markdown",
   "metadata": {},
   "source": [
    "### 2.2 Array indexing\n",
    "#### 4"
   ]
  },
  {
   "cell_type": "code",
   "execution_count": null,
   "metadata": {},
   "outputs": [],
   "source": [
    "a = np.array([[1,2,3,4], [5,6,7,8], [9,10,11,12]])\n",
    "b = a[:2, 1:3]\n",
    "print(a)\n",
    "print(b)"
   ]
  },
  {
   "cell_type": "markdown",
   "metadata": {},
   "source": [
    "##### Questions\n",
    "Shape of a: 3x4 <br>\n",
    "Shape of b: 2x2 <br>\n",
    "Values in b: [[2 3][6 7]]\n",
    "#### 5"
   ]
  },
  {
   "cell_type": "code",
   "execution_count": null,
   "metadata": {},
   "outputs": [],
   "source": [
    "print(a[0,1])  #Prints \"2\"\n",
    "b[0,0] = 77\n",
    "print(a[0,1])"
   ]
  },
  {
   "cell_type": "markdown",
   "metadata": {},
   "source": [
    "##### Questions\n",
    "The last line prints: 77. <br>\n",
    "Slicing numpy arrays return views of the array not copies. The underlying data is modified.\n",
    "#### 6"
   ]
  },
  {
   "cell_type": "code",
   "execution_count": null,
   "metadata": {},
   "outputs": [],
   "source": [
    "a = np.array([[1,2,3,4], [5,6,7,8], [9,10,11,12]])\n",
    "row_r1 = a[1,:]  #Rank 1 view of the second row of a\n",
    "row_r2 = a[1:2, :]  #Rank 2 view of the second row of a\n",
    "print(row_r1, row_r1.shape)  #prints \"[5, 6, 7, 8]]), (4,)\"\n",
    "print(row_r2, row_r2.shape)  #prints \"([[5, 6, 7, 8]]), (1, 4)\"\n",
    "col_r1 = a[:, 1]\n",
    "col_r2 = a[:, 1:2]\n",
    "print(col_r1, col_r1.shape) \n",
    "print(col_r2, col_r2.shape)\n"
   ]
  },
  {
   "cell_type": "markdown",
   "metadata": {},
   "source": [
    "##### Questions\n",
    "What are the shapes and values of col_r1 and col_r2? <br>\n",
    "col_r1: ([ 2,  6, 10]), (3,) <br>\n",
    "col_r2: [[ 2], <br>\n",
    "         [ 6], <br>\n",
    "         [10]]), (3, 1)) <br>\n",
    "Without a rank of 2 a column can't be defined. "
   ]
  },
  {
   "cell_type": "markdown",
   "metadata": {},
   "source": [
    "#### 7"
   ]
  },
  {
   "cell_type": "code",
   "execution_count": null,
   "metadata": {},
   "outputs": [],
   "source": [
    "a = np.array([[1,2], [3,4], [5,6]])\n",
    "print(a[[0,1,2], [0,1,0]])\n",
    "print(np.array([a[0,0], a[1,1], a[2,0]]))\n"
   ]
  },
  {
   "cell_type": "markdown",
   "metadata": {},
   "source": [
    "##### Questions\n",
    "Are the two arrays equivalent? <br>\n",
    "Yes, the first method of integer indexing is shorthand for the second method."
   ]
  },
  {
   "cell_type": "markdown",
   "metadata": {},
   "source": [
    "#### 8"
   ]
  },
  {
   "cell_type": "code",
   "execution_count": null,
   "metadata": {},
   "outputs": [],
   "source": [
    "b = a[[0,0],[1,1]]\n",
    "c = np.array([a[0,1], a[0,1]])\n",
    "print(b)\n",
    "print(c)"
   ]
  },
  {
   "cell_type": "markdown",
   "metadata": {},
   "source": [
    "#### 9"
   ]
  },
  {
   "cell_type": "code",
   "execution_count": null,
   "metadata": {},
   "outputs": [],
   "source": [
    "a = np.array([[1,2,3],[4,5,6],[7,8,9],[10,11,12]])\n",
    "b = np.array([0,2,0,1])\n",
    "print(a[np.arange(4), b])\n",
    "a[np.arange(4), b] += 10\n",
    "print(a)"
   ]
  },
  {
   "cell_type": "markdown",
   "metadata": {},
   "source": [
    "##### Questions\n",
    "The values in \"a\" with indicies (0,0), (1,2), (2,0), (3,1) are printed. <br>\n",
    "These same values are modified by adding 10 in array a."
   ]
  },
  {
   "cell_type": "markdown",
   "metadata": {},
   "source": [
    "#### 10"
   ]
  },
  {
   "cell_type": "code",
   "execution_count": null,
   "metadata": {},
   "outputs": [],
   "source": [
    "a = np.array([[1,2], [3,4], [5,6]])\n",
    "bool_idx = (a > 2)\n"
   ]
  },
  {
   "cell_type": "markdown",
   "metadata": {},
   "source": [
    "##### Questions\n",
    "What is the result stored in bool_idx? <br>\n",
    "bool_idx stores an array of booleans which stores the result of each element > 2."
   ]
  },
  {
   "cell_type": "code",
   "execution_count": null,
   "metadata": {},
   "outputs": [],
   "source": [
    "print (a[bool_idx])\n",
    "print(a[a > 2])"
   ]
  },
  {
   "cell_type": "markdown",
   "metadata": {},
   "source": [
    "##### Questions \n",
    "What values are printed? What is their shape? <br>\n",
    "[3 4 5 6], 4x1"
   ]
  },
  {
   "cell_type": "markdown",
   "metadata": {},
   "source": [
    "### 2.3 Datatypes\n",
    "#### 11"
   ]
  },
  {
   "cell_type": "code",
   "execution_count": null,
   "metadata": {},
   "outputs": [],
   "source": [
    "x = np.array([1,2])\n",
    "print(x.dtype)\n",
    "y = np.array([1.0, 2.0])  #let numpy choose the datatype\n",
    "print(y.dtype)"
   ]
  },
  {
   "cell_type": "code",
   "execution_count": null,
   "metadata": {},
   "outputs": [],
   "source": [
    "z = np.array([1,2], dtype=np.int32)  # force a datatype\n",
    "print(z.dtype)"
   ]
  },
  {
   "cell_type": "markdown",
   "metadata": {},
   "source": [
    "### 2.4 Array math\n",
    "#### 12"
   ]
  },
  {
   "cell_type": "code",
   "execution_count": null,
   "metadata": {},
   "outputs": [],
   "source": [
    "x = np.array([[1,2], [3,4]], dtype = np.float64)\n",
    "y = np.array([[5,6], [7,8]], dtype = np.float64)\n",
    "\n",
    "#Elementwise sum; both produce the array\n",
    "print(x + y)\n",
    "print(np.add(x, y))\n",
    "\n",
    "#Elementwise difference; both produce the array\n",
    "print(x - y)\n",
    "print(np.subtract(x, y))\n",
    "\n",
    "#elementwise product; both profucr the array\n",
    "print(x * y)\n",
    "print(np.multiply(x,y))\n",
    "\n",
    "#Elementwise division; both produce the array\n",
    "print(x / y)\n",
    "print(np.divide(x, y))\n",
    "\n",
    "#Elementwise square root; produces the array\n",
    "print(np.sqrt(x))"
   ]
  },
  {
   "cell_type": "markdown",
   "metadata": {},
   "source": [
    "##### Questions\n",
    "Give the output of each print statement. <br>\n",
    "**Addition (method 1):**<br> [[ 6.  8.] <br>[ 10. 12.]] <br>\n",
    "**Addition (method 2):**<br> [[ 6.  8.] <br>[ 10. 12.]] <br>\n",
    "**Subtraction (method 1):**<br> [[-4. -4.] <br>[-4. -4.]] <br>\n",
    "**Subtraction (method 2):**<br> [[-4. -4.] <br>[-4. -4.]] <br>\n",
    "**Product (method 1):**<br>[[ 5. 12.] <br>[21. 32.]] <br>\n",
    "**Product (method 2):** <br> [[ 5. 12.] <br>[21. 32.]]<br>\n",
    "**Division (method 1):** <br>[[0.2        0.33333333]<br>[0.42857143 0.5       ]]<br>\n",
    "**Division (method 2):** <br>[[0.2        0.33333333]<br>[0.42857143 0.5       ]]<br>\n",
    "**Square root:** <br>[[1.         1.41421356]<br>[1.73205081 2.        ]]<br>\n",
    "#### 13"
   ]
  },
  {
   "cell_type": "code",
   "execution_count": null,
   "metadata": {},
   "outputs": [],
   "source": [
    "v = np.array([9,10])\n",
    "w = np.array([11,12])\n",
    "print(v.dot(w))\n",
    "print(np.dot(v,w))"
   ]
  },
  {
   "cell_type": "markdown",
   "metadata": {},
   "source": [
    "##### Questions\n",
    "The inner product of both vectors is preformed in both cases. <br>\n",
    "#### 14"
   ]
  },
  {
   "cell_type": "code",
   "execution_count": null,
   "metadata": {},
   "outputs": [],
   "source": [
    "x = np.array([[1,2],[3,4]])\n",
    "print(x.dot(v))\n",
    "print(np.dot(y,v))\n",
    "print(np.matmul(y,v))"
   ]
  },
  {
   "cell_type": "markdown",
   "metadata": {},
   "source": [
    "##### Questions\n",
    "Matrix multiplication (dot product) is performed in both cases. Matmul is the perfered method of doing this."
   ]
  },
  {
   "cell_type": "markdown",
   "metadata": {},
   "source": [
    "#### 15\n",
    "Write the code to compute the product of the matricies x with the following matrix y."
   ]
  },
  {
   "cell_type": "code",
   "execution_count": null,
   "metadata": {},
   "outputs": [],
   "source": [
    "y = np.array([[5,6,7],[7,8,9]])\n",
    "print(np.matmul(x,y))"
   ]
  },
  {
   "cell_type": "markdown",
   "metadata": {},
   "source": [
    "##### Questions\n",
    "Can you write the same code for the product of y with x? <br>\n",
    "No, The dimensions must align to compute the dot product. (2,3) does not align with (2,2). <br>"
   ]
  },
  {
   "cell_type": "code",
   "execution_count": null,
   "metadata": {},
   "outputs": [],
   "source": [
    "x = np.array([[1,2], [3,4]])\n",
    "print(np.sum(x))  # Computes the sum of all elements\n",
    "print(np.sum(x, axis=0)) #Computes the sum of each column\n",
    "print(np.sum(x, axis=1)) # Computes the sum of each row"
   ]
  },
  {
   "cell_type": "markdown",
   "metadata": {},
   "source": [
    "#### 16"
   ]
  },
  {
   "cell_type": "code",
   "execution_count": null,
   "metadata": {},
   "outputs": [],
   "source": [
    "x = np.array([[1,2,3], [4,5,6]])\n",
    "print(x)\n",
    "print(x.T)"
   ]
  },
  {
   "cell_type": "markdown",
   "metadata": {},
   "source": [
    "##### Questions\n",
    "Transpose of x: <br>\n",
    ">[[1 4]<br>[2 5]<br>[3 6]] <br>\n",
    "\n",
    "The transpose x is x fliped across the diagonal (i.e. column and row indicies swapped)."
   ]
  },
  {
   "cell_type": "markdown",
   "metadata": {},
   "source": [
    "### 2.5 Broadcasting\n",
    "#### 17"
   ]
  },
  {
   "cell_type": "code",
   "execution_count": null,
   "metadata": {},
   "outputs": [],
   "source": [
    "x = np.array([[1,2,3],[4,5,6],[7,8,9],[10,11,12]])\n",
    "v = np.array([1,0,1])\n",
    "y = np.zeros(x.shape)\n",
    "# Add vector v to each row of matrix x\n",
    "for i in range(x.shape[0]):\n",
    "    for j in range(x.shape[1]):\n",
    "        y[i,j] = v[j] + x[i,j]\n",
    "print(y)"
   ]
  },
  {
   "cell_type": "markdown",
   "metadata": {},
   "source": [
    "#### 18"
   ]
  },
  {
   "cell_type": "code",
   "execution_count": null,
   "metadata": {},
   "outputs": [],
   "source": [
    "vv = np.tile(v, (4, 1))\n",
    "print(vv)"
   ]
  },
  {
   "cell_type": "code",
   "execution_count": null,
   "metadata": {},
   "outputs": [],
   "source": [
    "y = np.zeros(x.shape)\n",
    "# Add vector v to each row of matrix x\n",
    "y = np.add(x, vv)\n",
    "print(y)"
   ]
  },
  {
   "cell_type": "markdown",
   "metadata": {},
   "source": [
    "#### 19"
   ]
  },
  {
   "cell_type": "code",
   "execution_count": null,
   "metadata": {},
   "outputs": [],
   "source": [
    "x = np.array([[1,2,3], [4,5,6], [7,8,9], [10, 11, 12]])\n",
    "v = np.array([1, 0, 1])\n",
    "y = x + v # Add v to each row of x using broadcasting\n",
    "print(y)\n",
    "v = np.array([1,2,3]) # v has shape (3,)\n",
    "w = np.array([4,5]) # w has shape (2,)\n",
    "# Compute the outer product of v and w using broadcasting\n",
    "print(np.outer(v,w))\n",
    "print(np.reshape(v, (3, 1)) * w)"
   ]
  },
  {
   "cell_type": "markdown",
   "metadata": {},
   "source": [
    "##### 20"
   ]
  },
  {
   "cell_type": "code",
   "execution_count": null,
   "metadata": {},
   "outputs": [],
   "source": [
    "# Add v to each row of x using broadcasting\n",
    "x = np.array([[1,2,3], [4,5,6]])\n",
    "print(x + v)"
   ]
  },
  {
   "cell_type": "markdown",
   "metadata": {},
   "source": [
    "#### 21"
   ]
  },
  {
   "cell_type": "code",
   "execution_count": null,
   "metadata": {},
   "outputs": [],
   "source": [
    "# Add w to each column of x using broadcasting\n",
    "print(x + np.reshape(w, (2,1)))"
   ]
  },
  {
   "cell_type": "markdown",
   "metadata": {},
   "source": [
    "#### 22"
   ]
  },
  {
   "cell_type": "code",
   "execution_count": null,
   "metadata": {},
   "outputs": [],
   "source": [
    "# Numpy treats scalars as arrays of shape (). Write a code to multiply x with 2.\n",
    "print(x * 2)"
   ]
  },
  {
   "cell_type": "markdown",
   "metadata": {},
   "source": [
    "## 3 Matplotlib\n",
    "### 3.1 Plotting\n",
    "#### 23"
   ]
  },
  {
   "cell_type": "code",
   "execution_count": null,
   "metadata": {},
   "outputs": [],
   "source": [
    "import numpy as np\n",
    "import matplotlib.pyplot as plt\n",
    "# Compute the x and y coordinates for points on a sine curve\n",
    "x = np.arange(0, 3 * np.pi, 0.1)\n",
    "y = np.sin(x)\n",
    "# Plot the points using matplotlib\n",
    "plt.plot(x, y)\n",
    "plt.show() # You must call plt.show() to make graphics appear."
   ]
  },
  {
   "cell_type": "markdown",
   "metadata": {},
   "source": [
    "#### 24"
   ]
  },
  {
   "cell_type": "code",
   "execution_count": null,
   "metadata": {},
   "outputs": [],
   "source": [
    "# Compute the x and y coordinates for points on a sine curve\n",
    "x = np.arange(0, 3 * np.pi, 0.1)\n",
    "y = np.sin(x)\n",
    "# Plot the points using matplotlib\n",
    "plt.plot(x, y)\n",
    "plt.xlim(0, 3 * np.pi)\n",
    "plt.xlabel('x')\n",
    "plt.ylabel('y')\n",
    "plt.title('Sinusoidal curve(s)')\n",
    "plt.legend(['Sine'])\n",
    "plt.show() # You must call plt.show() to make graphics appear."
   ]
  },
  {
   "cell_type": "markdown",
   "metadata": {},
   "source": [
    "##### Questions\n",
    "Interpret each of these instructions.\n",
    "-  plt.xlim(0, 3 * np.pi)\n",
    "    -  Sets the x axis limits to 0 and 3pi\n",
    "-  plt.xlabel('x')\n",
    "    - Sets the x axis label to \"x\"\n",
    "-  plt.ylabel('y')\n",
    "    - Sets the y axis label to \"y\"\n",
    "- plt.title('Sinusoidal curve(s)')\n",
    "    - Sets the plot title to \"Sinusoidal curve(s)\"\n",
    "-  plt.legend(['Sine'])\n",
    "    -  Sets the plot ledgend to label the curve \"Sine\""
   ]
  },
  {
   "cell_type": "markdown",
   "metadata": {},
   "source": [
    "#### 25"
   ]
  },
  {
   "cell_type": "code",
   "execution_count": null,
   "metadata": {},
   "outputs": [],
   "source": [
    "y = np.sin(x)\n",
    "z = np.cos(x)\n",
    "# Plot the points using matplotlib\n",
    "plt.plot(x, y, x, z)\n",
    "plt.xlim(0, 3 * np.pi)\n",
    "plt.xlabel('x')\n",
    "plt.ylabel('y, z')\n",
    "plt.title('Sinusoidal & Cosine curves')\n",
    "plt.legend(['Sine', 'Cosine'])\n",
    "plt.show() # You must call plt.show() to make graphics appear."
   ]
  },
  {
   "cell_type": "markdown",
   "metadata": {},
   "source": [
    "### 3.2 Subplots"
   ]
  },
  {
   "cell_type": "code",
   "execution_count": null,
   "metadata": {},
   "outputs": [],
   "source": [
    "x = np.arange(0, 3 * np.pi, 0.1)\n",
    "y_sin = np.sin(x)\n",
    "# Set up a subplot grid that has height 2 and width 1,\n",
    "# and set the first such subplot as active.\n",
    "plt.subplot(2, 1, 1)\n",
    "# Make the first plot\n",
    "plt.plot(x, y_sin)\n",
    "plt.xlim(0, 3 * np.pi)\n",
    "plt.title('Sine')"
   ]
  },
  {
   "cell_type": "markdown",
   "metadata": {},
   "source": [
    "#### 26"
   ]
  },
  {
   "cell_type": "code",
   "execution_count": null,
   "metadata": {},
   "outputs": [],
   "source": [
    "x = np.arange(0, 3 * np.pi, 0.1)\n",
    "y_sin = np.sin(x)\n",
    "# Set up a subplot grid that has height 2 and width 1,\n",
    "# and set the first such subplot as active.\n",
    "plt.subplot(2, 1, 1)\n",
    "# Make the first plot\n",
    "plt.plot(x, y_sin)\n",
    "plt.xlim(0, 3 * np.pi)\n",
    "plt.title('Sine')\n",
    "\n",
    "#Make the second plot\n",
    "plt.subplot(2, 1, 2)\n",
    "y_cos = np.cos(x)\n",
    "plt.plot(x, y_cos)\n",
    "plt.xlim(0, 3 * np.pi)\n",
    "plt.title('Cosine')"
   ]
  },
  {
   "cell_type": "markdown",
   "metadata": {},
   "source": [
    "### 3.3 Images\n",
    "#### 27 \n",
    "Directory created and image added via sybolic link\n",
    "#### 28"
   ]
  },
  {
   "cell_type": "code",
   "execution_count": null,
   "metadata": {},
   "outputs": [],
   "source": [
    "import numpy as np\n",
    "import imageio\n",
    "import matplotlib.pyplot as plt\n",
    "img = imageio.imread('assets/cat.jpg')\n",
    "img_tinted = img * [1, 0.95, 0.9]\n",
    "# Show the original image\n",
    "plt.subplot(1, 2, 1)\n",
    "plt.imshow(img)\n",
    "# Show the tinted image\n",
    "plt.subplot(1, 2, 2)\n",
    "# A slight gotcha with imshow is that it might give strange results\n",
    "# if presented with data that is not uint8. To work around this, we\n",
    "# explicitly cast the image to uint8 before displaying it.\n",
    "plt.imshow(np.uint8(img_tinted))\n",
    "plt.show()"
   ]
  }
 ],
 "metadata": {
  "kernelspec": {
   "display_name": "Python 2",
   "language": "python",
   "name": "python2"
  },
  "language_info": {
   "codemirror_mode": {
    "name": "ipython",
    "version": 2
   },
   "file_extension": ".py",
   "mimetype": "text/x-python",
   "name": "python",
   "nbconvert_exporter": "python",
   "pygments_lexer": "ipython2",
   "version": "2.7.14"
  }
 },
 "nbformat": 4,
 "nbformat_minor": 2
}
